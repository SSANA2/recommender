{
 "cells": [
  {
   "cell_type": "markdown",
   "id": "3fb05f71",
   "metadata": {},
   "source": [
    "## Data Load"
   ]
  },
  {
   "cell_type": "code",
   "execution_count": 4,
   "id": "a3bdd449",
   "metadata": {},
   "outputs": [],
   "source": [
    "from surprise import SVD\n",
    "from surprise import Dataset\n",
    "from surprise.model_selection import cross_validate"
   ]
  },
  {
   "cell_type": "code",
   "execution_count": 7,
   "id": "872fc037",
   "metadata": {},
   "outputs": [
    {
     "data": {
      "text/plain": [
       "[('196', '242', 3.0, '881250949'),\n",
       " ('186', '302', 3.0, '891717742'),\n",
       " ('22', '377', 1.0, '878887116'),\n",
       " ('244', '51', 2.0, '880606923'),\n",
       " ('166', '346', 1.0, '886397596'),\n",
       " ('298', '474', 4.0, '884182806'),\n",
       " ('115', '265', 2.0, '881171488'),\n",
       " ('253', '465', 5.0, '891628467'),\n",
       " ('305', '451', 3.0, '886324817'),\n",
       " ('6', '86', 3.0, '883603013')]"
      ]
     },
     "execution_count": 7,
     "metadata": {},
     "output_type": "execute_result"
    }
   ],
   "source": [
    "data = Dataset.load_builtin('ml-100k', prompt=False)\n",
    "data.raw_ratings[:10] #어떤 사용자가 어떤 영화에 대해 몇점을 줬는지 "
   ]
  },
  {
   "cell_type": "code",
   "execution_count": 8,
   "id": "857d3518",
   "metadata": {},
   "outputs": [],
   "source": [
    "model = SVD()"
   ]
  },
  {
   "cell_type": "code",
   "execution_count": 9,
   "id": "297550e1",
   "metadata": {},
   "outputs": [
    {
     "name": "stdout",
     "output_type": "stream",
     "text": [
      "Evaluating RMSE, MAE of algorithm SVD on 5 split(s).\n",
      "\n",
      "                  Fold 1  Fold 2  Fold 3  Fold 4  Fold 5  Mean    Std     \n",
      "RMSE (testset)    0.9311  0.9319  0.9362  0.9414  0.9391  0.9359  0.0040  \n",
      "MAE (testset)     0.7324  0.7353  0.7386  0.7432  0.7394  0.7378  0.0037  \n",
      "Fit time          3.08    3.09    3.09    3.18    3.09    3.11    0.04    \n",
      "Test time         0.12    0.12    0.09    0.12    0.12    0.11    0.01    \n"
     ]
    },
    {
     "data": {
      "text/plain": [
       "{'test_rmse': array([0.93107117, 0.93185384, 0.93617103, 0.94144728, 0.93907713]),\n",
       " 'test_mae': array([0.73244553, 0.73526215, 0.73858333, 0.74320116, 0.73940241]),\n",
       " 'fit_time': (3.080501079559326,\n",
       "  3.089439630508423,\n",
       "  3.0866944789886475,\n",
       "  3.1779470443725586,\n",
       "  3.0941660404205322),\n",
       " 'test_time': (0.1211545467376709,\n",
       "  0.11902713775634766,\n",
       "  0.09002017974853516,\n",
       "  0.11602592468261719,\n",
       "  0.1180264949798584)}"
      ]
     },
     "execution_count": 9,
     "metadata": {},
     "output_type": "execute_result"
    }
   ],
   "source": [
    "cross_validate(model, data, measures = ['rmse','mae'], cv=5, verbose=True)"
   ]
  },
  {
   "cell_type": "markdown",
   "id": "47ad1577",
   "metadata": {},
   "source": [
    "# Content-based Filtering"
   ]
  },
  {
   "cell_type": "code",
   "execution_count": 10,
   "id": "aba31b64",
   "metadata": {},
   "outputs": [],
   "source": [
    "#이전 행동과 유사한 항목 추천\n",
    "#나의 이전 경험과 비슷한 경험을 가진 다른 사용자의 항목을 추천\n",
    "# 유사도 기반, "
   ]
  },
  {
   "cell_type": "code",
   "execution_count": 11,
   "id": "583e73af",
   "metadata": {},
   "outputs": [],
   "source": [
    "import numpy as np\n",
    "from surprise import Dataset"
   ]
  },
  {
   "cell_type": "code",
   "execution_count": 13,
   "id": "e48ed3ab",
   "metadata": {},
   "outputs": [
    {
     "data": {
      "text/plain": [
       "array([[      196,       242,         3, 881250949],\n",
       "       [      186,       302,         3, 891717742],\n",
       "       [       22,       377,         1, 878887116],\n",
       "       [      244,        51,         2, 880606923],\n",
       "       [      166,       346,         1, 886397596]])"
      ]
     },
     "execution_count": 13,
     "metadata": {},
     "output_type": "execute_result"
    }
   ],
   "source": [
    "raw_data = np.array(data.raw_ratings, dtype = int)\n",
    "raw_data[:5]"
   ]
  },
  {
   "cell_type": "code",
   "execution_count": 14,
   "id": "7352e26e",
   "metadata": {},
   "outputs": [
    {
     "data": {
      "text/plain": [
       "array([[      195,       241,         3, 881250949],\n",
       "       [      185,       301,         3, 891717742],\n",
       "       [       21,       376,         1, 878887116],\n",
       "       [      243,        50,         2, 880606923],\n",
       "       [      165,       345,         1, 886397596]])"
      ]
     },
     "execution_count": 14,
     "metadata": {},
     "output_type": "execute_result"
    }
   ],
   "source": [
    "raw_data[:, 0] -=1\n",
    "raw_data[:, 1] -=1\n",
    "raw_data[:5]"
   ]
  },
  {
   "cell_type": "code",
   "execution_count": 15,
   "id": "ec41e76b",
   "metadata": {},
   "outputs": [
    {
     "data": {
      "text/plain": [
       "(943, 1682)"
      ]
     },
     "execution_count": 15,
     "metadata": {},
     "output_type": "execute_result"
    }
   ],
   "source": [
    "n_users = np.max(raw_data[:, 0])\n",
    "n_movies = np.max(raw_data[:, 1])\n",
    "shape = (n_users+1, n_movies +1)\n",
    "shape"
   ]
  },
  {
   "cell_type": "code",
   "execution_count": 16,
   "id": "2f297244",
   "metadata": {},
   "outputs": [
    {
     "data": {
      "text/plain": [
       "array([[1, 1, 1, ..., 0, 0, 0],\n",
       "       [1, 0, 0, ..., 0, 0, 0],\n",
       "       [0, 0, 0, ..., 0, 0, 0],\n",
       "       ...,\n",
       "       [1, 0, 0, ..., 0, 0, 0],\n",
       "       [0, 0, 0, ..., 0, 0, 0],\n",
       "       [0, 1, 0, ..., 0, 0, 0]])"
      ]
     },
     "execution_count": 16,
     "metadata": {},
     "output_type": "execute_result"
    }
   ],
   "source": [
    "adj_matrix = np.ndarray(shape, dtype = int)\n",
    "for user_id, movie_id, rating, time in raw_data:\n",
    "    adj_matrix[user_id][movie_id] = 1.\n",
    "adj_matrix"
   ]
  },
  {
   "cell_type": "code",
   "execution_count": 19,
   "id": "21c85caa",
   "metadata": {},
   "outputs": [
    {
     "name": "stdout",
     "output_type": "stream",
     "text": [
      "Best Match: 183, Best Match ID: 275\n"
     ]
    }
   ],
   "source": [
    "my_id, my_vector = 0, adj_matrix[0]\n",
    "best_match, best_match_id, best_match_vector = -1, -1, []\n",
    "\n",
    "for user_id, user_vector in enumerate(adj_matrix):\n",
    "    if my_id !=user_id:\n",
    "        similarity = np.dot(my_vector, user_vector)\n",
    "        if similarity > best_match:\n",
    "            best_match = similarity\n",
    "            best_match_id = user_id\n",
    "            best_match_vector = user_vector\n",
    "\n",
    "print('Best Match: {}, Best Match ID: {}'.format(best_match, best_match_id))"
   ]
  },
  {
   "cell_type": "code",
   "execution_count": 20,
   "id": "5c3edaa5",
   "metadata": {},
   "outputs": [
    {
     "name": "stdout",
     "output_type": "stream",
     "text": [
      "[272, 273, 275, 280, 281, 283, 287, 288, 289, 290, 292, 293, 297, 299, 300, 301, 302, 306, 312, 314, 315, 316, 317, 321, 322, 323, 324, 327, 330, 331, 332, 333, 339, 342, 345, 346, 353, 354, 355, 356, 357, 363, 364, 365, 366, 372, 374, 378, 379, 381, 382, 383, 384, 385, 386, 387, 390, 391, 392, 394, 395, 396, 398, 400, 401, 402, 403, 404, 405, 406, 407, 408, 409, 410, 412, 414, 416, 417, 418, 419, 420, 422, 424, 425, 426, 427, 428, 430, 431, 432, 435, 442, 446, 447, 448, 449, 450, 451, 452, 454, 455, 457, 460, 461, 462, 468, 469, 470, 471, 472, 473, 474, 478, 495, 500, 507, 517, 522, 525, 530, 539, 540, 543, 545, 546, 548, 549, 550, 551, 553, 557, 558, 560, 561, 562, 563, 565, 566, 567, 568, 570, 571, 574, 575, 576, 577, 580, 581, 582, 585, 587, 589, 590, 594, 596, 602, 623, 626, 627, 630, 633, 635, 639, 646, 648, 651, 652, 654, 657, 664, 668, 671, 677, 678, 681, 683, 684, 685, 690, 691, 692, 695, 696, 708, 709, 714, 718, 719, 720, 724, 726, 727, 731, 733, 734, 736, 738, 741, 742, 745, 746, 747, 749, 750, 754, 758, 762, 764, 767, 768, 769, 770, 771, 772, 773, 778, 779, 782, 785, 788, 789, 793, 795, 796, 799, 800, 801, 802, 805, 806, 808, 815, 819, 822, 824, 830, 839, 842, 843, 844, 852, 853, 870, 875, 878, 880, 889, 901, 914, 915, 918, 921, 927, 929, 930, 938, 940, 941, 942, 948, 950, 958, 968, 973, 974, 976, 992, 999, 1005, 1009, 1010, 1012, 1015, 1018, 1027, 1030, 1034, 1035, 1041, 1043, 1045, 1046, 1051, 1055, 1072, 1073, 1078, 1080, 1082, 1088, 1089, 1090, 1094, 1097, 1108, 1109, 1117, 1128, 1130, 1134, 1139, 1140, 1144, 1156, 1169, 1171, 1179, 1193, 1198, 1207, 1209, 1212, 1217, 1219, 1220, 1227, 1231, 1238, 1239, 1243, 1244, 1252, 1266, 1272, 1273, 1300, 1313, 1406, 1412, 1415, 1470, 1477, 1480, 1481, 1482]\n"
     ]
    }
   ],
   "source": [
    "recommend_list = []\n",
    "for i, log in enumerate(zip(my_vector, best_match_vector)):\n",
    "    log1, log2 = log\n",
    "    if log1 < 1. and log2 >0.:\n",
    "        recommend_list.append(i)\n",
    "print(recommend_list)"
   ]
  },
  {
   "cell_type": "code",
   "execution_count": 28,
   "id": "0a7004cd",
   "metadata": {},
   "outputs": [
    {
     "name": "stdout",
     "output_type": "stream",
     "text": [
      "Best Match: 61.89507250177513, Best Match ID: 942\n"
     ]
    }
   ],
   "source": [
    "# uclidean_dist\n",
    "my_id, my_vector = 0, adj_matrix[0]\n",
    "best_match, best_match_id, best_match_vector = 9999, -1, []\n",
    "for user_id, user_vector in enumerate(adj_matrix):\n",
    "    if my_id !=user_id:\n",
    "        euclidean_dist = np.sqrt(np.sum(np.square(my_vector - user_vector)))\n",
    "        if similarity > euclidean_dist:\n",
    "            best_match = euclidean_dist\n",
    "            best_match_id = user_id\n",
    "            best_match_vector = user_vector\n",
    "\n",
    "print('Best Match: {}, Best Match ID: {}'.format(best_match, best_match_id))\n"
   ]
  },
  {
   "cell_type": "code",
   "execution_count": 22,
   "id": "ffcacd76",
   "metadata": {},
   "outputs": [
    {
     "name": "stdout",
     "output_type": "stream",
     "text": [
      "[273, 280, 281, 283, 317, 355, 366, 372, 384, 385, 390, 392, 398, 400, 401, 402, 404, 405, 411, 414, 418, 420, 422, 425, 426, 430, 442, 448, 449, 467, 469, 470, 474, 484, 507, 525, 540, 545, 548, 558, 565, 567, 568, 569, 575, 580, 584, 594, 608, 613, 624, 654, 671, 684, 716, 719, 720, 721, 723, 731, 738, 755, 762, 764, 784, 793, 795, 807, 815, 823, 824, 830, 839, 927, 940, 942, 1010, 1027, 1043, 1046, 1066, 1073, 1187, 1227, 1329]\n"
     ]
    }
   ],
   "source": [
    "recommend_list = []\n",
    "for i, log in enumerate(zip(my_vector, best_match_vector)):\n",
    "    log1, log2 = log\n",
    "    if log1 < 1. and log2 >0.:\n",
    "        recommend_list.append(i)\n",
    "print(recommend_list)"
   ]
  },
  {
   "cell_type": "code",
   "execution_count": 23,
   "id": "02be4656",
   "metadata": {},
   "outputs": [],
   "source": [
    "# cosign_similarity\n",
    "def compute_cos_similarity(v1, v2):\n",
    "    norm1 = np.sqrt(np.sum(np.square(v1)))\n",
    "    norm2 = np.sqrt(np.sum(np.square(v2)))\n",
    "    dot = np.dot(v1,v2)\n",
    "    return dot / (norm1*norm2)"
   ]
  },
  {
   "cell_type": "code",
   "execution_count": 29,
   "id": "75c7dfbe",
   "metadata": {},
   "outputs": [
    {
     "name": "stdout",
     "output_type": "stream",
     "text": [
      "Best Match: 0.3981747390558696, Best Match ID: 942\n"
     ]
    }
   ],
   "source": [
    "my_id, my_vector = 0, adj_matrix[0]\n",
    "best_match, best_match_id, best_match_vector = -1, -1, []\n",
    "for user_id, user_vector in enumerate(adj_matrix):\n",
    "    if my_id !=user_id:\n",
    "        cos_similarity = compute_cos_similarity(my_vector, user_vector)\n",
    "        if similarity > cos_similarity:\n",
    "            best_match = cos_similarity\n",
    "            best_match_id = user_id\n",
    "            best_match_vector = user_vector\n",
    "\n",
    "print('Best Match: {}, Best Match ID: {}'.format(best_match, best_match_id))\n"
   ]
  },
  {
   "cell_type": "code",
   "execution_count": 32,
   "id": "c927aedf",
   "metadata": {},
   "outputs": [
    {
     "data": {
      "text/plain": [
       "array([[5, 3, 4, ..., 0, 0, 0],\n",
       "       [4, 0, 0, ..., 0, 0, 0],\n",
       "       [0, 0, 0, ..., 0, 0, 0],\n",
       "       ...,\n",
       "       [5, 0, 0, ..., 0, 0, 0],\n",
       "       [0, 0, 0, ..., 0, 0, 0],\n",
       "       [0, 5, 0, ..., 0, 0, 0]])"
      ]
     },
     "execution_count": 32,
     "metadata": {},
     "output_type": "execute_result"
    }
   ],
   "source": [
    "# 인접행렬을 rating 값으로 \n",
    "adj_matrix = np.ndarray(shape, dtype = int)\n",
    "for user_id, movie_id, rating, time in raw_data:\n",
    "    adj_matrix[user_id][movie_id] = rating\n",
    "adj_matrix"
   ]
  },
  {
   "cell_type": "code",
   "execution_count": 33,
   "id": "2e17b6a8",
   "metadata": {},
   "outputs": [
    {
     "name": "stdout",
     "output_type": "stream",
     "text": [
      "Best Match: 61.89507250177513, Best Match ID: 942\n"
     ]
    }
   ],
   "source": [
    "my_id, my_vector = 0, adj_matrix[0]\n",
    "best_match, best_match_id, best_match_vector = 9999, -1, []\n",
    "for user_id, user_vector in enumerate(adj_matrix):\n",
    "    if my_id !=user_id:\n",
    "        euclidean_dist = np.sqrt(np.sum(np.square(my_vector - user_vector)))\n",
    "        if similarity > euclidean_dist:\n",
    "            best_match = euclidean_dist\n",
    "            best_match_id = user_id\n",
    "            best_match_vector = user_vector\n",
    "\n",
    "print('Best Match: {}, Best Match ID: {}'.format(best_match, best_match_id))\n"
   ]
  },
  {
   "cell_type": "code",
   "execution_count": 34,
   "id": "1c8bf888",
   "metadata": {},
   "outputs": [
    {
     "name": "stdout",
     "output_type": "stream",
     "text": [
      "Best Match: 0.3981747390558696, Best Match ID: 942\n"
     ]
    }
   ],
   "source": [
    "my_id, my_vector = 0, adj_matrix[0]\n",
    "best_match, best_match_id, best_match_vector = -1, -1, []\n",
    "for user_id, user_vector in enumerate(adj_matrix):\n",
    "    if my_id !=user_id:\n",
    "        cos_similarity = compute_cos_similarity(my_vector, user_vector)\n",
    "        if similarity > cos_similarity:\n",
    "            best_match = cos_similarity\n",
    "            best_match_id = user_id\n",
    "            best_match_vector = user_vector\n",
    "\n",
    "print('Best Match: {}, Best Match ID: {}'.format(best_match, best_match_id))\n"
   ]
  },
  {
   "cell_type": "markdown",
   "id": "61161220",
   "metadata": {},
   "source": [
    "## Collaborative Filtering"
   ]
  },
  {
   "cell_type": "code",
   "execution_count": 35,
   "id": "1d8c1340",
   "metadata": {},
   "outputs": [],
   "source": [
    "# 사용자와 항목의 유사성을 동시에 고려하여 추천\n",
    "# 기존 내 경험과 달라도 추천\n",
    "# 자동으로 임베딩 학습"
   ]
  },
  {
   "cell_type": "code",
   "execution_count": 36,
   "id": "cdd6c4c5",
   "metadata": {},
   "outputs": [],
   "source": [
    "from surprise import KNNBasic, SVD, SVDpp, NMF\n",
    "from surprise import Dataset\n",
    "from surprise.model_selection import cross_validate"
   ]
  },
  {
   "cell_type": "code",
   "execution_count": 37,
   "id": "63c223dc",
   "metadata": {},
   "outputs": [
    {
     "name": "stdout",
     "output_type": "stream",
     "text": [
      "Evaluating RMSE, MAE of algorithm KNNBasic on 5 split(s).\n",
      "\n",
      "                  Fold 1  Fold 2  Fold 3  Fold 4  Fold 5  Mean    Std     \n",
      "RMSE (testset)    0.9738  0.9758  0.9898  0.9759  0.9757  0.9782  0.0059  \n",
      "MAE (testset)     0.7711  0.7688  0.7827  0.7707  0.7704  0.7728  0.0050  \n",
      "Fit time          0.27    0.29    0.44    0.36    0.33    0.34    0.06    \n",
      "Test time         2.17    2.31    2.20    2.03    1.99    2.14    0.12    \n"
     ]
    },
    {
     "data": {
      "text/plain": [
       "{'test_rmse': array([0.97381263, 0.97579504, 0.98984296, 0.97589985, 0.97569975]),\n",
       " 'test_mae': array([0.77112841, 0.76884324, 0.78271622, 0.77073722, 0.77035232]),\n",
       " 'fit_time': (0.2670605182647705,\n",
       "  0.28806447982788086,\n",
       "  0.43634748458862305,\n",
       "  0.3553805351257324,\n",
       "  0.33307600021362305),\n",
       " 'test_time': (2.1739447116851807,\n",
       "  2.3120408058166504,\n",
       "  2.2035608291625977,\n",
       "  2.025456428527832,\n",
       "  1.9874458312988281)}"
      ]
     },
     "execution_count": 37,
     "metadata": {},
     "output_type": "execute_result"
    }
   ],
   "source": [
    "model = KNNBasic()\n",
    "cross_validate(model, data, measures = ['rmse', 'mae'], cv=5, n_jobs=4, verbose=True)"
   ]
  },
  {
   "cell_type": "code",
   "execution_count": 38,
   "id": "7f68a171",
   "metadata": {},
   "outputs": [
    {
     "name": "stdout",
     "output_type": "stream",
     "text": [
      "Evaluating RMSE, MAE of algorithm NMF on 5 split(s).\n",
      "\n",
      "                  Fold 1  Fold 2  Fold 3  Fold 4  Fold 5  Mean    Std     \n",
      "RMSE (testset)    0.9541  0.9657  0.9598  0.9754  0.9763  0.9662  0.0086  \n",
      "MAE (testset)     0.7499  0.7572  0.7567  0.7657  0.7674  0.7594  0.0064  \n",
      "Fit time          3.24    3.38    3.51    3.31    3.12    3.31    0.13    \n",
      "Test time         0.11    0.12    0.09    0.09    0.09    0.10    0.01    \n"
     ]
    },
    {
     "data": {
      "text/plain": [
       "{'test_rmse': array([0.95411376, 0.96566743, 0.95979197, 0.9753708 , 0.97626902]),\n",
       " 'test_mae': array([0.74986306, 0.75721441, 0.75665401, 0.76567596, 0.76739147]),\n",
       " 'fit_time': (3.2446415424346924,\n",
       "  3.3792128562927246,\n",
       "  3.5137147903442383,\n",
       "  3.305305004119873,\n",
       "  3.117706537246704),\n",
       " 'test_time': (0.10602426528930664,\n",
       "  0.11602616310119629,\n",
       "  0.09202075004577637,\n",
       "  0.09402132034301758,\n",
       "  0.0890192985534668)}"
      ]
     },
     "execution_count": 38,
     "metadata": {},
     "output_type": "execute_result"
    }
   ],
   "source": [
    "model = NMF()\n",
    "cross_validate(model, data, measures = ['rmse', 'mae'], cv=5, n_jobs=4, verbose=True)"
   ]
  },
  {
   "cell_type": "code",
   "execution_count": 39,
   "id": "2d33bd98",
   "metadata": {},
   "outputs": [
    {
     "name": "stdout",
     "output_type": "stream",
     "text": [
      "Evaluating RMSE, MAE of algorithm SVDpp on 5 split(s).\n",
      "\n",
      "                  Fold 1  Fold 2  Fold 3  Fold 4  Fold 5  Mean    Std     \n",
      "RMSE (testset)    0.9143  0.9283  0.9231  0.9144  0.9171  0.9195  0.0055  \n",
      "MAE (testset)     0.7170  0.7270  0.7244  0.7168  0.7209  0.7212  0.0040  \n",
      "Fit time          132.51  131.61  131.17  135.50  112.34  128.62  8.28    \n",
      "Test time         2.22    2.27    2.27    2.13    1.99    2.18    0.11    \n"
     ]
    },
    {
     "data": {
      "text/plain": [
       "{'test_rmse': array([0.91426857, 0.9283277 , 0.92311802, 0.9144376 , 0.91711805]),\n",
       " 'test_mae': array([0.71696266, 0.72699778, 0.72439005, 0.71678452, 0.72087452]),\n",
       " 'fit_time': (132.50747227668762,\n",
       "  131.61227107048035,\n",
       "  131.16543292999268,\n",
       "  135.50321125984192,\n",
       "  112.33640646934509),\n",
       " 'test_time': (2.2245001792907715,\n",
       "  2.2745110988616943,\n",
       "  2.26951003074646,\n",
       "  2.1334803104400635,\n",
       "  1.9869821071624756)}"
      ]
     },
     "execution_count": 39,
     "metadata": {},
     "output_type": "execute_result"
    }
   ],
   "source": [
    "model = SVDpp()\n",
    "cross_validate(model, data, measures = ['rmse', 'mae'], cv=5, n_jobs=4, verbose=True)"
   ]
  },
  {
   "cell_type": "markdown",
   "id": "4b7e5be2",
   "metadata": {},
   "source": [
    "## Hybrid"
   ]
  },
  {
   "cell_type": "code",
   "execution_count": 40,
   "id": "3b3bf8ba",
   "metadata": {},
   "outputs": [],
   "source": [
    "## collaborative_filtering으로 임베딩 학습 후 content_based_filtering으로 유사도 기반 추천"
   ]
  },
  {
   "cell_type": "code",
   "execution_count": 41,
   "id": "293bf322",
   "metadata": {},
   "outputs": [],
   "source": [
    "from sklearn.decomposition import randomized_svd, non_negative_factorization"
   ]
  },
  {
   "cell_type": "code",
   "execution_count": 42,
   "id": "bc30e994",
   "metadata": {},
   "outputs": [
    {
     "data": {
      "text/plain": [
       "array([[5, 3, 4, ..., 0, 0, 0],\n",
       "       [4, 0, 0, ..., 0, 0, 0],\n",
       "       [0, 0, 0, ..., 0, 0, 0],\n",
       "       ...,\n",
       "       [5, 0, 0, ..., 0, 0, 0],\n",
       "       [0, 0, 0, ..., 0, 0, 0],\n",
       "       [0, 5, 0, ..., 0, 0, 0]])"
      ]
     },
     "execution_count": 42,
     "metadata": {},
     "output_type": "execute_result"
    }
   ],
   "source": [
    "adj_matrix"
   ]
  },
  {
   "cell_type": "code",
   "execution_count": 43,
   "id": "5e919a0b",
   "metadata": {},
   "outputs": [
    {
     "name": "stdout",
     "output_type": "stream",
     "text": [
      "(943, 2) (2, 2) (2, 1682)\n"
     ]
    },
    {
     "name": "stderr",
     "output_type": "stream",
     "text": [
      "C:\\Users\\k\\AppData\\Roaming\\Python\\Python37\\site-packages\\sklearn\\utils\\extmath.py:376: FutureWarning: If 'random_state' is not supplied, the current default is to use 0 as a fixed seed. This will change to  None in version 1.2 leading to non-deterministic results that better reflect nature of the randomized_svd solver. If you want to silence this warning, set 'random_state' to an integer seed or to None explicitly depending if you want your code to be deterministic or not.\n",
      "  FutureWarning,\n"
     ]
    }
   ],
   "source": [
    "# S가 특이값\n",
    "U, S, V = randomized_svd(adj_matrix, n_components = 2)\n",
    "S = np.diag(S)\n",
    "print(U.shape, S.shape, V.shape)"
   ]
  },
  {
   "cell_type": "code",
   "execution_count": 44,
   "id": "4fd2ddfe",
   "metadata": {},
   "outputs": [
    {
     "data": {
      "text/plain": [
       "array([[ 3.91732663e+00,  1.47276644e+00,  7.98261988e-01, ...,\n",
       "         6.24907189e-04,  1.41100852e-02,  1.36545878e-02],\n",
       "       [ 1.85777226e+00,  3.96191175e-01,  5.05705740e-01, ...,\n",
       "         5.38862978e-03,  1.77237914e-03,  5.26968095e-04],\n",
       "       [ 8.94989517e-01,  1.71578497e-01,  2.51738682e-01, ...,\n",
       "         2.92094923e-03,  5.39937171e-04, -1.25733753e-04],\n",
       "       ...,\n",
       "       [ 9.92051955e-01,  2.10814957e-01,  2.70363365e-01, ...,\n",
       "         2.89019297e-03,  9.34221962e-04,  2.66612193e-04],\n",
       "       [ 1.30425401e+00,  5.27669941e-01,  2.50080165e-01, ...,\n",
       "        -4.20677765e-04,  5.30525683e-03,  5.28069948e-03],\n",
       "       [ 2.82999397e+00,  9.70812247e-01,  6.15871694e-01, ...,\n",
       "         2.02091492e-03,  8.67740813e-03,  8.03107892e-03]])"
      ]
     },
     "execution_count": 44,
     "metadata": {},
     "output_type": "execute_result"
    }
   ],
   "source": [
    "np.matmul(np.matmul(U,S),V)"
   ]
  },
  {
   "cell_type": "code",
   "execution_count": 45,
   "id": "06b83022",
   "metadata": {},
   "outputs": [
    {
     "name": "stdout",
     "output_type": "stream",
     "text": [
      "Best Match: 0.9415201705645377, Best Match ID: 942\n"
     ]
    }
   ],
   "source": [
    "#사용자 기반 추천\n",
    "my_id, my_vector = 0, U[0]\n",
    "best_match, best_match_id, best_match_vector = -1, -1, []\n",
    "for user_id, user_vector in enumerate(U):\n",
    "    if my_id !=user_id:\n",
    "        cos_similarity = compute_cos_similarity(my_vector, user_vector)\n",
    "        if similarity > cos_similarity:\n",
    "            best_match = cos_similarity\n",
    "            best_match_id = user_id\n",
    "            best_match_vector = user_vector\n",
    "\n",
    "print('Best Match: {}, Best Match ID: {}'.format(best_match, best_match_id))\n"
   ]
  },
  {
   "cell_type": "code",
   "execution_count": 46,
   "id": "1704f9b9",
   "metadata": {},
   "outputs": [
    {
     "name": "stdout",
     "output_type": "stream",
     "text": [
      "[273, 280, 281, 283, 317, 355, 366, 372, 384, 385, 390, 392, 398, 400, 401, 402, 404, 405, 411, 414, 418, 420, 422, 425, 426, 430, 442, 448, 449, 467, 469, 470, 474, 484, 507, 525, 540, 545, 548, 558, 565, 567, 568, 569, 575, 580, 584, 594, 608, 613, 624, 654, 671, 684, 716, 719, 720, 721, 723, 731, 738, 755, 762, 764, 784, 793, 795, 807, 815, 823, 824, 830, 839, 927, 940, 942, 1010, 1027, 1043, 1046, 1066, 1073, 1187, 1227, 1329]\n"
     ]
    }
   ],
   "source": [
    "recommend_list = []\n",
    "for i, log in enumerate(zip(adj_matrix[my_id], adj_matrix[best_match_id])):\n",
    "    log1, log2 = log\n",
    "    if log1 < 1. and log2 >0.:\n",
    "        recommend_list.append(i)\n",
    "print(recommend_list)"
   ]
  },
  {
   "cell_type": "code",
   "execution_count": 57,
   "id": "9ed0a567",
   "metadata": {},
   "outputs": [
    {
     "name": "stdout",
     "output_type": "stream",
     "text": [
      "Best Match: 0.25977083374828575, Best Match ID: 1681\n"
     ]
    }
   ],
   "source": [
    "# 항목 기반 추천 (내가 본 항목과 비슷한 항목)\n",
    "my_id, my_vector = 0, V.T[0]\n",
    "best_match, best_match_id, best_match_vector = -1, -1, []\n",
    "for user_id, user_vector in enumerate(V.T):\n",
    "    if my_id !=user_id:\n",
    "        cos_similarity = compute_cos_similarity(my_vector, user_vector)\n",
    "        if similarity > cos_similarity:\n",
    "            best_match = cos_similarity\n",
    "            best_match_id = user_id\n",
    "            best_match_vector = user_vector\n",
    "\n",
    "print('Best Match: {}, Best Match ID: {}'.format(best_match, best_match_id))\n"
   ]
  },
  {
   "cell_type": "code",
   "execution_count": 52,
   "id": "066fc36a",
   "metadata": {
    "collapsed": true
   },
   "outputs": [
    {
     "name": "stdout",
     "output_type": "stream",
     "text": [
      "[0, 1, 4, 5, 9, 12, 14, 15, 16, 17, 19, 20, 22, 24, 25, 37, 40, 41, 42, 43, 44, 48, 53, 55, 56, 57, 58, 61, 62, 63, 64, 65, 66, 69, 71, 72, 74, 76, 78, 80, 81, 82, 83, 88, 91, 92, 93, 94, 95, 96, 98, 100, 101, 105, 107, 108, 116, 119, 120, 123, 124, 127, 129, 130, 133, 136, 137, 140, 143, 144, 147, 149, 150, 156, 157, 159, 161, 167, 173, 176, 177, 180, 181, 183, 188, 192, 193, 197, 198, 199, 200, 201, 202, 203, 208, 209, 212, 215, 221, 222, 229, 230, 231, 233, 234, 241, 242, 243, 245, 246, 247, 248, 249, 250, 251, 252, 253, 255, 261, 262, 264, 267, 270, 273, 274, 275, 276, 278, 279, 285, 286, 288, 289, 290, 291, 292, 293, 294, 295, 296, 297, 298, 300, 302, 304, 306, 307, 310, 311, 312, 313, 319, 321, 323, 324, 325, 326, 329, 330, 331, 335, 337, 338, 339, 342, 343, 344, 346, 347, 349, 356, 358, 359, 362, 364, 370, 373, 377, 378, 379, 380, 386, 387, 388, 389, 392, 393, 394, 395, 397, 398, 400, 401, 402, 405, 406, 410, 411, 415, 416, 418, 421, 423, 424, 428, 431, 433, 434, 437, 440, 444, 446, 449, 453, 454, 455, 456, 457, 458, 459, 462, 464, 466, 467, 469, 470, 471, 477, 478, 482, 483, 485, 486, 487, 489, 492, 493, 494, 496, 499, 502, 504, 507, 511, 513, 516, 517, 520, 522, 524, 525, 531, 532, 533, 534, 535, 536, 539, 540, 541, 544, 547, 548, 549, 551, 552, 553, 559, 560, 561, 566, 568, 575, 576, 578, 579, 581, 587, 591, 592, 596, 598, 601, 604, 605, 608, 609, 611, 612, 613, 617, 619, 620, 621, 623, 629, 631, 633, 634, 635, 636, 641, 642, 647, 648, 649, 652, 653, 654, 656, 657, 659, 660, 662, 663, 664, 668, 673, 675, 676, 677, 678, 679, 681, 683, 688, 689, 690, 691, 696, 697, 698, 700, 702, 704, 705, 707, 708, 709, 713, 714, 715, 720, 722, 725, 726, 729, 730, 732, 734, 737, 741, 743, 744, 745, 746, 747, 748, 750, 755, 756, 758, 760, 762, 763, 766, 767, 768, 769, 770, 772, 776, 778, 784, 785, 787, 788, 789, 791, 792, 793, 794, 795, 797, 799, 803, 804, 805, 806, 814, 816, 820, 821, 822, 825, 828, 829, 830, 834, 837, 838, 842, 846, 851, 853, 863, 864, 866, 867, 869, 871, 878, 879, 880, 881, 882, 884, 885, 886, 888, 889, 891, 892, 893, 894, 895, 896, 898, 900, 901, 902, 906, 909, 912, 915, 916, 917, 918, 920, 921, 922, 923, 926, 928, 929, 931, 932, 933, 934, 935, 937, 940]\n"
     ]
    }
   ],
   "source": [
    "recommend_list = []\n",
    "for i, user_vector in enumerate(adj_matrix):\n",
    "    if adj_matrix[i][my_id] > 0.9:\n",
    "        recommend_list.append(i)\n",
    "print(recommend_list)"
   ]
  },
  {
   "cell_type": "code",
   "execution_count": 53,
   "id": "f218b235",
   "metadata": {},
   "outputs": [
    {
     "data": {
      "text/plain": [
       "array([[5, 3, 4, ..., 0, 0, 0],\n",
       "       [4, 0, 0, ..., 0, 0, 0],\n",
       "       [0, 0, 0, ..., 0, 0, 0],\n",
       "       ...,\n",
       "       [5, 0, 0, ..., 0, 0, 0],\n",
       "       [0, 0, 0, ..., 0, 0, 0],\n",
       "       [0, 5, 0, ..., 0, 0, 0]])"
      ]
     },
     "execution_count": 53,
     "metadata": {},
     "output_type": "execute_result"
    }
   ],
   "source": [
    "adj_matrix"
   ]
  },
  {
   "cell_type": "code",
   "execution_count": 54,
   "id": "02d49bc9",
   "metadata": {},
   "outputs": [
    {
     "name": "stderr",
     "output_type": "stream",
     "text": [
      "C:\\Users\\k\\AppData\\Roaming\\Python\\Python37\\site-packages\\sklearn\\decomposition\\_nmf.py:294: FutureWarning: The 'init' value, when 'init=None' and n_components is less than n_samples and n_features, will be changed from 'nndsvd' to 'nndsvda' in 1.1 (renaming of 0.26).\n",
      "  FutureWarning,\n"
     ]
    }
   ],
   "source": [
    "# 비음수 행렬 분해 사용\n",
    "A, B, iter = non_negative_factorization(adj_matrix, n_components = 2)"
   ]
  },
  {
   "cell_type": "code",
   "execution_count": 55,
   "id": "abe48c09",
   "metadata": {},
   "outputs": [
    {
     "data": {
      "text/plain": [
       "array([[3.71108858e+00, 1.48454102e+00, 7.39535363e-01, ...,\n",
       "        3.64490531e-03, 1.45506510e-02, 1.44110916e-02],\n",
       "       [2.11724416e+00, 2.37338725e-01, 5.51650703e-01, ...,\n",
       "        4.76092332e-03, 3.03585165e-05, 0.00000000e+00],\n",
       "       [9.85272360e-01, 1.10447010e-01, 2.56713988e-01, ...,\n",
       "        2.21552443e-03, 1.41275191e-05, 0.00000000e+00],\n",
       "       ...,\n",
       "       [1.04485667e+00, 1.17126289e-01, 2.72238757e-01, ...,\n",
       "        2.34950819e-03, 1.49818803e-05, 0.00000000e+00],\n",
       "       [1.45758857e+00, 5.42112787e-01, 2.99181695e-01, ...,\n",
       "        1.61177659e-03, 5.15921394e-03, 5.10771005e-03],\n",
       "       [2.44733103e+00, 9.41208708e-01, 4.95740038e-01, ...,\n",
       "        2.56992125e-03, 9.08287324e-03, 8.99389282e-03]])"
      ]
     },
     "execution_count": 55,
     "metadata": {},
     "output_type": "execute_result"
    }
   ],
   "source": [
    "np.matmul(A,B)"
   ]
  },
  {
   "cell_type": "code",
   "execution_count": 58,
   "id": "c9f7bbb0",
   "metadata": {},
   "outputs": [
    {
     "name": "stdout",
     "output_type": "stream",
     "text": [
      "Best Match: 0.9987492019399694, Best Match ID: 942\n"
     ]
    }
   ],
   "source": [
    "#사용자 기반 추천\n",
    "my_id, my_vector = 0, A[0]\n",
    "best_match, best_match_id, best_match_vector = -1, -1, []\n",
    "for user_id, user_vector in enumerate(A):\n",
    "    if my_id !=user_id:\n",
    "        cos_similarity = compute_cos_similarity(my_vector, user_vector)\n",
    "        if similarity > cos_similarity:\n",
    "            best_match = cos_similarity\n",
    "            best_match_id = user_id\n",
    "            best_match_vector = user_vector\n",
    "\n",
    "print('Best Match: {}, Best Match ID: {}'.format(best_match, best_match_id))\n"
   ]
  },
  {
   "cell_type": "code",
   "execution_count": 59,
   "id": "474d851b",
   "metadata": {},
   "outputs": [
    {
     "name": "stdout",
     "output_type": "stream",
     "text": [
      "Best Match: 0.5348293339902824, Best Match ID: 1681\n"
     ]
    }
   ],
   "source": [
    "# 항목 기반 추천 (내가 본 항목과 비슷한 항목)\n",
    "my_id, my_vector = 0, B.T[0]\n",
    "best_match, best_match_id, best_match_vector = -1, -1, []\n",
    "for user_id, user_vector in enumerate(B.T):\n",
    "    if my_id !=user_id:\n",
    "        cos_similarity = compute_cos_similarity(my_vector, user_vector)\n",
    "        if similarity > cos_similarity:\n",
    "            best_match = cos_similarity\n",
    "            best_match_id = user_id\n",
    "            best_match_vector = user_vector\n",
    "\n",
    "print('Best Match: {}, Best Match ID: {}'.format(best_match, best_match_id))\n"
   ]
  },
  {
   "cell_type": "code",
   "execution_count": null,
   "id": "c3dbe2ec",
   "metadata": {},
   "outputs": [],
   "source": []
  }
 ],
 "metadata": {
  "kernelspec": {
   "display_name": "Python 3 (ipykernel)",
   "language": "python",
   "name": "python3"
  },
  "language_info": {
   "codemirror_mode": {
    "name": "ipython",
    "version": 3
   },
   "file_extension": ".py",
   "mimetype": "text/x-python",
   "name": "python",
   "nbconvert_exporter": "python",
   "pygments_lexer": "ipython3",
   "version": "3.7.0"
  }
 },
 "nbformat": 4,
 "nbformat_minor": 5
}
